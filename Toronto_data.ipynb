{
 "cells": [
  {
   "cell_type": "code",
   "execution_count": 6,
   "metadata": {},
   "outputs": [
    {
     "name": "stdout",
     "output_type": "stream",
     "text": [
      "Shape after clean:  (103, 3)\n",
      "Shape before clean:  (180, 3)\n"
     ]
    }
   ],
   "source": [
    "pip install lxml\n",
    "\n",
    "import pandas as pd\n",
    "\n",
    "import requests\n",
    "import numpy as np\n",
    "\n",
    "from pandas.io.json import json_normalize  # tranform JSON file into a pandas dataframe\n",
    "\n",
    "import folium # map rendering library\n",
    "\n",
    "# import k-means from clustering stage\n",
    "from sklearn.cluster import KMeans\n",
    "\n",
    "# Matplotlib and associated plotting modules\n",
    "import matplotlib.cm as cm\n",
    "import matplotlib.colors as colors\n",
    "\n",
    "df = pd.read_html('https://en.wikipedia.org/wiki/List_of_postal_codes_of_Canada:_M')[0]\n",
    "# Dataframe with 3 columns\n",
    "# df = pd.DataFrame(res, columns = [\"PostalCode\", \"Borough\", \"Neighborhood\"])\n",
    "# df.head()\n",
    "\n",
    "df.head()\n",
    "\n",
    "#Ignore cells with a borough that is Not assigned.\n",
    "\n",
    "dfNotAssigned = df[df.Borough != 'Not assigned'].reset_index(drop=True)\n",
    "\n",
    "dfNotAssigned.head()\n",
    "\n",
    "dfcombined = dfNotAssigned.groupby(['Postal Code','Borough'], as_index=False).agg(lambda x: ','.join(x))\n",
    "dfcombined.head()\n",
    "\n",
    "NotNeighbourhood = dfcombined['Neighbourhood'] == \"Not assigned\"\n",
    "dfcombined.loc[NotNeighbourhood, 'Neighbourhood'] = dfcombined.loc[NotNeighbourhood, 'Borough']\n",
    "\n",
    "print(\"Shape after clean: \", dfcombined.shape)\n",
    "\n",
    "print(\"Shape before clean: \", df.shape)\n",
    "\n"
   ]
  },
  {
   "cell_type": "code",
   "execution_count": 3,
   "metadata": {},
   "outputs": [
    {
     "name": "stdout",
     "output_type": "stream",
     "text": [
      "Collecting lxml\n",
      "\u001b[?25l  Downloading https://files.pythonhosted.org/packages/64/28/0b761b64ecbd63d272ed0e7a6ae6e4402fc37886b59181bfdf274424d693/lxml-4.6.1-cp36-cp36m-manylinux1_x86_64.whl (5.5MB)\n",
      "\u001b[K     |████████████████████████████████| 5.5MB 3.5MB/s eta 0:00:01     |███████████                     | 1.9MB 3.5MB/s eta 0:00:02\n",
      "\u001b[?25hInstalling collected packages: lxml\n",
      "Successfully installed lxml-4.6.1\n",
      "Note: you may need to restart the kernel to use updated packages.\n"
     ]
    }
   ],
   "source": [
    "pip install lxml"
   ]
  },
  {
   "cell_type": "code",
   "execution_count": null,
   "metadata": {},
   "outputs": [],
   "source": []
  }
 ],
 "metadata": {
  "kernelspec": {
   "display_name": "Python",
   "language": "python",
   "name": "conda-env-python-py"
  },
  "language_info": {
   "codemirror_mode": {
    "name": "ipython",
    "version": 3
   },
   "file_extension": ".py",
   "mimetype": "text/x-python",
   "name": "python",
   "nbconvert_exporter": "python",
   "pygments_lexer": "ipython3",
   "version": "3.6.11"
  }
 },
 "nbformat": 4,
 "nbformat_minor": 4
}
